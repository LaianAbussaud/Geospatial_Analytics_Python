{
 "cells": [
  {
   "cell_type": "markdown",
   "id": "5e521974",
   "metadata": {
    "slideshow": {
     "slide_type": "slide"
    }
   },
   "source": [
    "# Geospatial Analytics with Python\n",
    "<hr style=\"border:1px solid black\"> </hr>\n",
    "\n",
    "# \n",
    "Laian Abussaud"
   ]
  },
  {
   "cell_type": "markdown",
   "id": "271d3e1b",
   "metadata": {
    "slideshow": {
     "slide_type": "slide"
    }
   },
   "source": [
    "## Contents\n",
    "<hr style=\"border:0.5px solid black\"> </hr>\n"
   ]
  },
  {
   "cell_type": "markdown",
   "id": "fcd677e0",
   "metadata": {
    "slideshow": {
     "slide_type": "fragment"
    }
   },
   "source": [
    "1. Definitions"
   ]
  },
  {
   "cell_type": "markdown",
   "id": "55290ba3",
   "metadata": {
    "slideshow": {
     "slide_type": "fragment"
    }
   },
   "source": [
    "2. Applications "
   ]
  },
  {
   "cell_type": "markdown",
   "id": "1ec96993",
   "metadata": {
    "slideshow": {
     "slide_type": "fragment"
    }
   },
   "source": [
    "3. Comparison"
   ]
  },
  {
   "cell_type": "markdown",
   "id": "a60c1207",
   "metadata": {
    "slideshow": {
     "slide_type": "fragment"
    }
   },
   "source": [
    "4. Python"
   ]
  },
  {
   "cell_type": "markdown",
   "id": "5f4c22b5",
   "metadata": {
    "slideshow": {
     "slide_type": "fragment"
    }
   },
   "source": [
    "5. Demo"
   ]
  },
  {
   "cell_type": "markdown",
   "id": "0272bbc1",
   "metadata": {
    "slideshow": {
     "slide_type": "slide"
    }
   },
   "source": [
    "## Definitions\n",
    "<hr style=\"border:0.5px solid black\"> </hr>\n"
   ]
  },
  {
   "cell_type": "markdown",
   "id": "4a37db2b",
   "metadata": {
    "slideshow": {
     "slide_type": "fragment"
    }
   },
   "source": [
    "#### What is GIS?"
   ]
  },
  {
   "cell_type": "markdown",
   "id": "55adc778",
   "metadata": {
    "slideshow": {
     "slide_type": "fragment"
    }
   },
   "source": [
    "Geographic Informaton System, a system that allows you to visualize, analyze, and store data to understand <ins>spatial</ins> relationships, patterns, and trends.\n"
   ]
  },
  {
   "cell_type": "markdown",
   "id": "bbe8ea78",
   "metadata": {
    "slideshow": {
     "slide_type": "fragment"
    }
   },
   "source": [
    "#### What is Geospatial data?"
   ]
  },
  {
   "cell_type": "markdown",
   "id": "d3421b76",
   "metadata": {
    "slideshow": {
     "slide_type": "fragment"
    }
   },
   "source": [
    "Geospatial data is data about objects, events, or phenomena that has a <ins>location</ins>. Usually stored as coordinates (latitude, longtitude).\n"
   ]
  },
  {
   "cell_type": "markdown",
   "id": "3751de4a",
   "metadata": {
    "cell_style": "split",
    "slideshow": {
     "slide_type": "fragment"
    }
   },
   "source": [
    "<img src=\"lat_long.png\" style=\"width:750px;height:600px\"/>"
   ]
  },
  {
   "cell_type": "markdown",
   "id": "795af926",
   "metadata": {
    "cell_style": "split",
    "slideshow": {
     "slide_type": "fragment"
    }
   },
   "source": [
    "<img src=\"data_types_2.png\" style=\"width:600px;height:600px\"/>"
   ]
  },
  {
   "cell_type": "markdown",
   "id": "659e4b73",
   "metadata": {
    "slideshow": {
     "slide_type": "fragment"
    }
   },
   "source": [
    "#### What is Geospatial analysis?"
   ]
  },
  {
   "cell_type": "markdown",
   "id": "2e7e243b",
   "metadata": {
    "slideshow": {
     "slide_type": "fragment"
    }
   },
   "source": [
    "A mix of data science, advanced analysis, and maps!\n"
   ]
  },
  {
   "cell_type": "markdown",
   "id": "00e27583",
   "metadata": {
    "slideshow": {
     "slide_type": "fragment"
    }
   },
   "source": [
    "#### It helps us answer *Where* questions"
   ]
  },
  {
   "cell_type": "markdown",
   "id": "d3748edb",
   "metadata": {
    "slideshow": {
     "slide_type": "fragment"
    }
   },
   "source": [
    "- Where is?\n",
    "- Where should we place?\n",
    "- Where will the hurricane hit?\n",
    "- Where should we place advertisements?"
   ]
  },
  {
   "cell_type": "markdown",
   "id": "efc506d5",
   "metadata": {
    "slideshow": {
     "slide_type": "slide"
    }
   },
   "source": [
    "## Applications\n",
    "<hr style=\"border:0.5px solid black\"> </hr>\n"
   ]
  },
  {
   "cell_type": "markdown",
   "id": "a7acc4a2",
   "metadata": {
    "slideshow": {
     "slide_type": "fragment"
    }
   },
   "source": [
    "> \"GIS is widely used in organizations of all sizes and in almost every industry.\"\n"
   ]
  },
  {
   "cell_type": "markdown",
   "id": "ad066141",
   "metadata": {
    "slideshow": {
     "slide_type": "fragment"
    }
   },
   "source": [
    "Some GIS analysis applications include:\n",
    "- Architecture/Urban planning\n",
    "- Map Navigation\n",
    "- Transportation Planning\n",
    "- Accident/Hot Spot Analysis\n",
    "- Aviation Applications\n",
    "- Environmental Impact Analysis\n",
    "- Agricultural Applications\n",
    "- Astronomy Applications\n",
    "- Disaster Management and Mitigation\n",
    "- Water Management\n",
    "- Banking (ATM Machines)\n",
    "- etc."
   ]
  },
  {
   "cell_type": "markdown",
   "id": "44ed2aa8",
   "metadata": {
    "slideshow": {
     "slide_type": "slide"
    }
   },
   "source": [
    "## Comparision\n",
    "<hr style=\"border:0.5px solid black\"> </hr>\n"
   ]
  },
  {
   "cell_type": "markdown",
   "id": "81343b78",
   "metadata": {
    "cell_style": "split",
    "slideshow": {
     "slide_type": "fragment"
    }
   },
   "source": [
    "**Traditional Desktop GIS Software:**\n",
    "\n",
    "Tools:\n",
    "   - ArcGIS by Esri\n",
    "   - QGIS\n",
    "   \n",
    "Pros:\n",
    "   - Very good for cartography\n",
    "   - Does not require coding\n",
    "   - If you prefer GUI's\n",
    "    \n",
    "Cons:\n",
    "   - Not great for big data\n",
    "   - Not great for documentation\n",
    "   - Not great for statistical analysis"
   ]
  },
  {
   "cell_type": "markdown",
   "id": "1bd8d194",
   "metadata": {
    "cell_style": "split",
    "slideshow": {
     "slide_type": "fragment"
    }
   },
   "source": [
    "**Geospatial Data Science Softwares:**\n",
    "    \n",
    "Tools:\n",
    "   - Python\n",
    "   - R\n",
    "   \n",
    "Pros:\n",
    "   - Great for big data\n",
    "   - Great for documentation\n",
    "   - Great for statistical analysis\n",
    "    \n",
    "Cons:\n",
    "   - Not good for cartography\n",
    "   - Requires coding\n",
    "   - Steeper learning curve"
   ]
  },
  {
   "cell_type": "markdown",
   "id": "8028035e",
   "metadata": {
    "slideshow": {
     "slide_type": "slide"
    }
   },
   "source": [
    "## Python\n",
    "<hr style=\"border:0.5px solid black\"> </hr>\n"
   ]
  },
  {
   "cell_type": "markdown",
   "id": "dc97f7b7",
   "metadata": {
    "slideshow": {
     "slide_type": "fragment"
    }
   },
   "source": [
    "### Base map packages:"
   ]
  },
  {
   "cell_type": "markdown",
   "id": "65112030",
   "metadata": {
    "slideshow": {
     "slide_type": "fragment"
    }
   },
   "source": [
    "- XYZ tiles, to provide the base map layer\n",
    "- ex. **Folium** →  a python wrapper for Leaflet, to plot interactive maps"
   ]
  },
  {
   "cell_type": "code",
   "execution_count": null,
   "id": "dd9df6f6",
   "metadata": {
    "slideshow": {
     "slide_type": "fragment"
    }
   },
   "outputs": [],
   "source": [
    "import folium"
   ]
  },
  {
   "cell_type": "code",
   "execution_count": null,
   "id": "02adb585",
   "metadata": {
    "scrolled": true,
    "slideshow": {
     "slide_type": "fragment"
    }
   },
   "outputs": [],
   "source": [
    "m = folium.Map(location=[24.78, 46.75], zoom_start=5, control_scale=True)\n",
    "m"
   ]
  },
  {
   "cell_type": "code",
   "execution_count": null,
   "id": "7f155c73",
   "metadata": {
    "slideshow": {
     "slide_type": "fragment"
    }
   },
   "outputs": [],
   "source": [
    "folium.TileLayer('Stamen Terrain').add_to(m)\n",
    "folium.TileLayer('Stamen Toner').add_to(m)\n",
    "folium.TileLayer('Stamen Water Color').add_to(m)\n",
    "folium.TileLayer('cartodbpositron').add_to(m)\n",
    "folium.TileLayer('cartodbdark_matter').add_to(m)\n",
    "folium.LayerControl().add_to(m)\n",
    "m"
   ]
  },
  {
   "cell_type": "markdown",
   "id": "2def2ce9",
   "metadata": {
    "cell_style": "center",
    "slideshow": {
     "slide_type": "fragment"
    }
   },
   "source": [
    "### Street Network packages:"
   ]
  },
  {
   "cell_type": "markdown",
   "id": "1a17a241",
   "metadata": {
    "slideshow": {
     "slide_type": "fragment"
    }
   },
   "source": [
    "- **NetworkX** →  Aric Hagberg, Pieter Swart, and Dan Schult\t\n",
    "- **Pandana** →  Fletcher Foti\n",
    "- **OSMnx** →  Geoff Boeing"
   ]
  },
  {
   "cell_type": "markdown",
   "id": "df134694",
   "metadata": {
    "cell_style": "center",
    "slideshow": {
     "slide_type": "fragment"
    }
   },
   "source": [
    "### Data manipulation packages:"
   ]
  },
  {
   "cell_type": "markdown",
   "id": "23f43138",
   "metadata": {
    "slideshow": {
     "slide_type": "fragment"
    }
   },
   "source": [
    "- **Pandas**, for high-performance, easy-to-use data structures and data analysis tools\n",
    "- **GeoPandas**, for Geographically-enabled Pandas, depends on <ins>Shapely</ins> and <ins>Fiona</ins>, it adds columns in Pandas for spatial operations"
   ]
  },
  {
   "cell_type": "markdown",
   "id": "0570bc40",
   "metadata": {
    "cell_style": "center",
    "slideshow": {
     "slide_type": "fragment"
    }
   },
   "source": [
    "### OpenStreetMap (OSM):"
   ]
  },
  {
   "cell_type": "markdown",
   "id": "f9e4f075",
   "metadata": {
    "slideshow": {
     "slide_type": "fragment"
    }
   },
   "source": [
    "<a href=\"https://www.openstreetmap.org/export#map=6/23.080/49.735\">www.openstreetmap.org</a>\n",
    "\n",
    "<a href=\"https://wiki.openstreetmap.org/wiki/Key:amenity\">Key:amenity - OpenStreetMap Wiki</a>"
   ]
  },
  {
   "cell_type": "markdown",
   "id": "46805e2d",
   "metadata": {
    "cell_style": "split",
    "slideshow": {
     "slide_type": "fragment"
    }
   },
   "source": [
    "<img src=\"OSM.jpg\" style=\"width:1000px;height:500px\"/>"
   ]
  },
  {
   "cell_type": "markdown",
   "id": "892c8686",
   "metadata": {
    "cell_style": "split",
    "slideshow": {
     "slide_type": "fragment"
    }
   },
   "source": [
    "<img src=\"osm_2.png\" style=\"width:1000px;height:500px\"/>"
   ]
  },
  {
   "cell_type": "markdown",
   "id": "0b578d85",
   "metadata": {
    "cell_style": "split",
    "slideshow": {
     "slide_type": "fragment"
    }
   },
   "source": [
    "- Not just a map, it is a **Database**\n",
    "- Open-source collaborative project\n",
    "- Attributes saved as key-value pairs\n",
    "- Amenity key"
   ]
  },
  {
   "cell_type": "markdown",
   "id": "7330820f",
   "metadata": {
    "cell_style": "split",
    "slideshow": {
     "slide_type": "fragment"
    }
   },
   "source": [
    "<img src=\"osm_3.png\" style=\"width:1000px;height:500px\"/>"
   ]
  },
  {
   "cell_type": "markdown",
   "id": "09c2f2ba",
   "metadata": {
    "slideshow": {
     "slide_type": "fragment"
    }
   },
   "source": [
    "## Demo\n",
    "<hr style=\"border:0.5px solid black\"> </hr>\n",
    "\n",
    "#### Spatial Question: How accessible/walkable are the cafes in my district?"
   ]
  },
  {
   "cell_type": "markdown",
   "id": "d68543d0",
   "metadata": {
    "slideshow": {
     "slide_type": "fragment"
    }
   },
   "source": [
    "#### 0. Import python libraries:\n"
   ]
  },
  {
   "cell_type": "code",
   "execution_count": null,
   "id": "5d74d875",
   "metadata": {
    "slideshow": {
     "slide_type": "fragment"
    }
   },
   "outputs": [],
   "source": [
    "%matplotlib inline\n",
    "import matplotlib.pyplot as plt\n",
    "\n",
    "import pandana\n",
    "from pandana.loaders import osm"
   ]
  },
  {
   "cell_type": "markdown",
   "id": "15753907",
   "metadata": {
    "cell_style": "center",
    "slideshow": {
     "slide_type": "fragment"
    }
   },
   "source": [
    "#### 1. Specify OSM bounding box, amenity type and distance"
   ]
  },
  {
   "cell_type": "code",
   "execution_count": null,
   "id": "d7fd24cc",
   "metadata": {
    "slideshow": {
     "slide_type": "fragment"
    }
   },
   "outputs": [],
   "source": [
    "bbox = [26.2841, 50.1995, 26.3366, 50.2454] # lat-long bounding box, [Bottom, Left, Top, Right]\n",
    "amenity = 'cafe' # accessibility to this type of amenity\n",
    "distance = 1500 # max distance in meters"
   ]
  },
  {
   "cell_type": "markdown",
   "id": "f850e915",
   "metadata": {
    "slideshow": {
     "slide_type": "fragment"
    }
   },
   "source": [
    "#### 2. Download points of interest (POIs)"
   ]
  },
  {
   "cell_type": "code",
   "execution_count": null,
   "id": "3d901585",
   "metadata": {
    "slideshow": {
     "slide_type": "fragment"
    }
   },
   "outputs": [],
   "source": [
    "pois = osm.node_query(bbox[0], bbox[1], bbox[2], bbox[3], tags='\"amenity\"=\"{}\"'.format(amenity))\n",
    "pois.tail()"
   ]
  },
  {
   "cell_type": "markdown",
   "id": "98ccd12e",
   "metadata": {
    "slideshow": {
     "slide_type": "fragment"
    }
   },
   "source": [
    "#### 3. Download street network data from OSM"
   ]
  },
  {
   "cell_type": "code",
   "execution_count": null,
   "id": "11540475",
   "metadata": {
    "slideshow": {
     "slide_type": "fragment"
    }
   },
   "outputs": [],
   "source": [
    "# query the OSM API for the street network within the specified bbox\n",
    "# need to install osmnet to download \n",
    "network = osm.pdna_network_from_bbox(bbox[0], bbox[1], bbox[2], bbox[3])\n",
    "len(network.node_ids)"
   ]
  },
  {
   "cell_type": "markdown",
   "id": "482a12cf",
   "metadata": {
    "slideshow": {
     "slide_type": "fragment"
    }
   },
   "source": [
    "#### 4. Process the network data then compute accessibility"
   ]
  },
  {
   "cell_type": "code",
   "execution_count": null,
   "id": "08f37434",
   "metadata": {
    "slideshow": {
     "slide_type": "fragment"
    }
   },
   "outputs": [],
   "source": [
    "# identify nodes that are connected to fewer than some threshold of other nodes within a given distance\n",
    "# do nothing with this for now, but see full example in other notebook for more\n",
    "lcn = network.low_connectivity_nodes(impedance=1000, count=10, imp_name='distance')\n",
    "# precomputes the range queries (the reachable nodes within this maximum distance)\n",
    "# so, as long as you use a smaller distance, cached results will be used\n",
    "network.precompute(distance + 1)\n",
    "# initialize the underlying C++ points-of-interest engine\n",
    "network.init_pois(num_categories=1, max_dist=distance, max_pois=7)\n",
    "# initialize a category for this amenity with the locations specified by the lon and lat columns\n",
    "network.set_pois(category='my_amenity', x_col=pois['lon'], y_col=pois['lat'])\n",
    "# search for the n nearest amenities to each node in the network\n",
    "access = network.nearest_pois(distance=distance, category='my_amenity', num_pois=7)\n",
    "# each df cell represents the network distance from the node to each of the n POIs\n",
    "access.head()"
   ]
  },
  {
   "cell_type": "markdown",
   "id": "2ea95dd4",
   "metadata": {
    "slideshow": {
     "slide_type": "fragment"
    }
   },
   "source": [
    "#### 5. Plot accessibility"
   ]
  },
  {
   "cell_type": "code",
   "execution_count": null,
   "id": "2168450e",
   "metadata": {
    "cell_style": "split",
    "slideshow": {
     "slide_type": "fragment"
    }
   },
   "outputs": [],
   "source": [
    "# keyword arguments to pass for the matplotlib figure\n",
    "bbox_aspect_ratio = (bbox[2] - bbox[0]) / (bbox[3] - bbox[1])\n",
    "fig_kwargs = {'facecolor':'w', \n",
    "              'figsize':(10, 10 * bbox_aspect_ratio)}\n",
    "\n",
    "# keyword arguments to pass for scatter plots\n",
    "plot_kwargs = {'s':5, \n",
    "               'alpha':0.9, \n",
    "               'cmap':'viridis_r', \n",
    "               'edgecolor':'none'}\n",
    "\n",
    "# plot the distance to the nth nearest amenity\n",
    "n = 1\n",
    "bmap, fig, ax = network.plot(access[n], bbox=bbox, plot_kwargs=plot_kwargs, fig_kwargs=fig_kwargs)\n",
    "ax.set_axis_bgcolor('k')\n",
    "ax.set_title('Walking distance (m) to nearest {} around Al-Khobar, Saudi Arabia'.format(amenity), fontsize=15)\n",
    "plt.show()"
   ]
  },
  {
   "cell_type": "code",
   "execution_count": null,
   "id": "2e93b43e",
   "metadata": {
    "cell_style": "split",
    "slideshow": {
     "slide_type": "fragment"
    }
   },
   "outputs": [],
   "source": [
    "import osmnx as ox\n",
    "\n",
    "G = ox.graph_from_bbox(26.3366, 26.2841, 50.2454, 50.1995, network_type='drive')\n",
    "ox.plot_graph(G, figsize=(6, 12))"
   ]
  },
  {
   "cell_type": "markdown",
   "id": "88ef20cd",
   "metadata": {
    "slideshow": {
     "slide_type": "slide"
    }
   },
   "source": [
    "## Thank you for listening!\n",
    "\n",
    "### Any questions?\n"
   ]
  },
  {
   "cell_type": "markdown",
   "id": "5c533ac9",
   "metadata": {
    "slideshow": {
     "slide_type": "skip"
    }
   },
   "source": [
    "## RISE settings"
   ]
  },
  {
   "cell_type": "code",
   "execution_count": null,
   "id": "d173c50d",
   "metadata": {
    "slideshow": {
     "slide_type": "skip"
    }
   },
   "outputs": [],
   "source": [
    "from traitlets.config.manager import BaseJSONConfigManager\n",
    "from pathlib import Path\n",
    "path = Path.home() / \".jupyter\" / \"nbconfig\"\n",
    "cm = BaseJSONConfigManager(config_dir=str(path))\n",
    "tmp = cm.update(\n",
    "        \"rise\",\n",
    "        {\n",
    "            \"theme\": \"serif\",\n",
    "            \"transition\": \"fade\",\n",
    "            \"start_slideshow_at\": \"beginning\",\n",
    "            \"autolaunch\": True,\n",
    "            \"width\": \"100%\",\n",
    "            \"height\": \"100%\",\n",
    "            \"header\": \"\",\n",
    "            \"footer\":\"\",\n",
    "            \"scroll\": True,\n",
    "            \"enable_chalkboard\": True,\n",
    "            \"slideNumber\": True,\n",
    "            \"center\": True,\n",
    "            \"controlsLayout\": \"edges\",\n",
    "            \"slideNumber\": True,\n",
    "            \"hash\": True,\n",
    "        }\n",
    "    )"
   ]
  }
 ],
 "metadata": {
  "celltoolbar": "Slideshow",
  "interpreter": {
   "hash": "40625bb967105b4da0a68e0da490ad1688764836b8b76dd3444ed6c3fff2e83b"
  },
  "kernelspec": {
   "display_name": "Python 3 (ipykernel)",
   "language": "python",
   "name": "python3"
  },
  "language_info": {
   "codemirror_mode": {
    "name": "ipython",
    "version": 3
   },
   "file_extension": ".py",
   "mimetype": "text/x-python",
   "name": "python",
   "nbconvert_exporter": "python",
   "pygments_lexer": "ipython3",
   "version": "3.9.7"
  }
 },
 "nbformat": 4,
 "nbformat_minor": 5
}
